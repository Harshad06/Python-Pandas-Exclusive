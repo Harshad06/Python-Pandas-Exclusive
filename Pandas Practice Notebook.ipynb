{
 "cells": [
  {
   "cell_type": "markdown",
   "metadata": {},
   "source": [
    "# Pandas Practice"
   ]
  },
  {
   "cell_type": "code",
   "execution_count": 1,
   "metadata": {},
   "outputs": [
    {
     "data": {
      "text/html": [
       "<style  type=\"text/css\" >\n",
       "    #T_544f132f_38f9_11eb_a2b7_98fa9b22916c  {\n",
       "          border: 10px solid yellow;\n",
       "    }</style><table id=\"T_544f132f_38f9_11eb_a2b7_98fa9b22916c\" ><thead>    <tr>        <th class=\"blank level0\" ></th>        <th class=\"col_heading level0 col0\" >name</th>        <th class=\"col_heading level0 col1\" >runs</th>    </tr></thead><tbody>\n",
       "                <tr>\n",
       "                        <th id=\"T_544f132f_38f9_11eb_a2b7_98fa9b22916clevel0_row0\" class=\"row_heading level0 row0\" >0</th>\n",
       "                        <td id=\"T_544f132f_38f9_11eb_a2b7_98fa9b22916crow0_col0\" class=\"data row0 col0\" >Tendulkar</td>\n",
       "                        <td id=\"T_544f132f_38f9_11eb_a2b7_98fa9b22916crow0_col1\" class=\"data row0 col1\" >18426</td>\n",
       "            </tr>\n",
       "            <tr>\n",
       "                        <th id=\"T_544f132f_38f9_11eb_a2b7_98fa9b22916clevel0_row1\" class=\"row_heading level0 row1\" >1</th>\n",
       "                        <td id=\"T_544f132f_38f9_11eb_a2b7_98fa9b22916crow1_col0\" class=\"data row1 col0\" >Sangakkara</td>\n",
       "                        <td id=\"T_544f132f_38f9_11eb_a2b7_98fa9b22916crow1_col1\" class=\"data row1 col1\" >14234</td>\n",
       "            </tr>\n",
       "            <tr>\n",
       "                        <th id=\"T_544f132f_38f9_11eb_a2b7_98fa9b22916clevel0_row2\" class=\"row_heading level0 row2\" >2</th>\n",
       "                        <td id=\"T_544f132f_38f9_11eb_a2b7_98fa9b22916crow2_col0\" class=\"data row2 col0\" >Ponting</td>\n",
       "                        <td id=\"T_544f132f_38f9_11eb_a2b7_98fa9b22916crow2_col1\" class=\"data row2 col1\" >13704</td>\n",
       "            </tr>\n",
       "            <tr>\n",
       "                        <th id=\"T_544f132f_38f9_11eb_a2b7_98fa9b22916clevel0_row3\" class=\"row_heading level0 row3\" >3</th>\n",
       "                        <td id=\"T_544f132f_38f9_11eb_a2b7_98fa9b22916crow3_col0\" class=\"data row3 col0\" >Jayasurya</td>\n",
       "                        <td id=\"T_544f132f_38f9_11eb_a2b7_98fa9b22916crow3_col1\" class=\"data row3 col1\" >13430</td>\n",
       "            </tr>\n",
       "            <tr>\n",
       "                        <th id=\"T_544f132f_38f9_11eb_a2b7_98fa9b22916clevel0_row4\" class=\"row_heading level0 row4\" >4</th>\n",
       "                        <td id=\"T_544f132f_38f9_11eb_a2b7_98fa9b22916crow4_col0\" class=\"data row4 col0\" >Jayawardene</td>\n",
       "                        <td id=\"T_544f132f_38f9_11eb_a2b7_98fa9b22916crow4_col1\" class=\"data row4 col1\" >12650</td>\n",
       "            </tr>\n",
       "            <tr>\n",
       "                        <th id=\"T_544f132f_38f9_11eb_a2b7_98fa9b22916clevel0_row5\" class=\"row_heading level0 row5\" >5</th>\n",
       "                        <td id=\"T_544f132f_38f9_11eb_a2b7_98fa9b22916crow5_col0\" class=\"data row5 col0\" >Kohli</td>\n",
       "                        <td id=\"T_544f132f_38f9_11eb_a2b7_98fa9b22916crow5_col1\" class=\"data row5 col1\" >11867</td>\n",
       "            </tr>\n",
       "            <tr>\n",
       "                        <th id=\"T_544f132f_38f9_11eb_a2b7_98fa9b22916clevel0_row6\" class=\"row_heading level0 row6\" >6</th>\n",
       "                        <td id=\"T_544f132f_38f9_11eb_a2b7_98fa9b22916crow6_col0\" class=\"data row6 col0\" >Haq</td>\n",
       "                        <td id=\"T_544f132f_38f9_11eb_a2b7_98fa9b22916crow6_col1\" class=\"data row6 col1\" >11739</td>\n",
       "            </tr>\n",
       "            <tr>\n",
       "                        <th id=\"T_544f132f_38f9_11eb_a2b7_98fa9b22916clevel0_row7\" class=\"row_heading level0 row7\" >7</th>\n",
       "                        <td id=\"T_544f132f_38f9_11eb_a2b7_98fa9b22916crow7_col0\" class=\"data row7 col0\" >Kallis</td>\n",
       "                        <td id=\"T_544f132f_38f9_11eb_a2b7_98fa9b22916crow7_col1\" class=\"data row7 col1\" >11579</td>\n",
       "            </tr>\n",
       "            <tr>\n",
       "                        <th id=\"T_544f132f_38f9_11eb_a2b7_98fa9b22916clevel0_row8\" class=\"row_heading level0 row8\" >8</th>\n",
       "                        <td id=\"T_544f132f_38f9_11eb_a2b7_98fa9b22916crow8_col0\" class=\"data row8 col0\" >Ganguly</td>\n",
       "                        <td id=\"T_544f132f_38f9_11eb_a2b7_98fa9b22916crow8_col1\" class=\"data row8 col1\" >11363</td>\n",
       "            </tr>\n",
       "            <tr>\n",
       "                        <th id=\"T_544f132f_38f9_11eb_a2b7_98fa9b22916clevel0_row9\" class=\"row_heading level0 row9\" >9</th>\n",
       "                        <td id=\"T_544f132f_38f9_11eb_a2b7_98fa9b22916crow9_col0\" class=\"data row9 col0\" >Dravid</td>\n",
       "                        <td id=\"T_544f132f_38f9_11eb_a2b7_98fa9b22916crow9_col1\" class=\"data row9 col1\" >10889</td>\n",
       "            </tr>\n",
       "    </tbody></table>"
      ],
      "text/plain": [
       "<pandas.io.formats.style.Styler at 0x1f252a73100>"
      ]
     },
     "execution_count": 1,
     "metadata": {},
     "output_type": "execute_result"
    }
   ],
   "source": [
    "# import the module \n",
    "import pandas as pd \n",
    "\n",
    "# create a DataFrame \n",
    "ODI_runs = {'name': ['Tendulkar', 'Sangakkara', 'Ponting', \n",
    "\t\t\t\t\t'Jayasurya', 'Jayawardene', 'Kohli', \n",
    "\t\t\t\t\t'Haq', 'Kallis', 'Ganguly', 'Dravid'], \n",
    "\t\t\t'runs': [18426, 14234, 13704, 13430, 12650, \n",
    "\t\t\t\t\t11867, 11739, 11579, 11363, 10889]} \n",
    "df = pd.DataFrame(ODI_runs) \n",
    "\n",
    "# making a yellow border \n",
    "df.style.set_table_styles([{'selector' : '', \n",
    "\t\t\t\t\t\t\t'props' : [('border', \n",
    "\t\t\t\t\t\t\t\t\t\t'10px solid yellow')]}]) \n"
   ]
  },
  {
   "cell_type": "code",
   "execution_count": 2,
   "metadata": {},
   "outputs": [
    {
     "data": {
      "text/html": [
       "<style  type=\"text/css\" >\n",
       "    #T_58fd2ffd_38f9_11eb_ab2d_98fa9b22916c  {\n",
       "          border: 2px solid green;\n",
       "    }</style><table id=\"T_58fd2ffd_38f9_11eb_ab2d_98fa9b22916c\" ><thead>    <tr>        <th class=\"blank level0\" ></th>        <th class=\"col_heading level0 col0\" >A</th>        <th class=\"col_heading level0 col1\" >B</th>        <th class=\"col_heading level0 col2\" >C</th>        <th class=\"col_heading level0 col3\" >D</th>    </tr></thead><tbody>\n",
       "                <tr>\n",
       "                        <th id=\"T_58fd2ffd_38f9_11eb_ab2d_98fa9b22916clevel0_row0\" class=\"row_heading level0 row0\" >0</th>\n",
       "                        <td id=\"T_58fd2ffd_38f9_11eb_ab2d_98fa9b22916crow0_col0\" class=\"data row0 col0\" >14</td>\n",
       "                        <td id=\"T_58fd2ffd_38f9_11eb_ab2d_98fa9b22916crow0_col1\" class=\"data row0 col1\" >5</td>\n",
       "                        <td id=\"T_58fd2ffd_38f9_11eb_ab2d_98fa9b22916crow0_col2\" class=\"data row0 col2\" >20</td>\n",
       "                        <td id=\"T_58fd2ffd_38f9_11eb_ab2d_98fa9b22916crow0_col3\" class=\"data row0 col3\" >14</td>\n",
       "            </tr>\n",
       "            <tr>\n",
       "                        <th id=\"T_58fd2ffd_38f9_11eb_ab2d_98fa9b22916clevel0_row1\" class=\"row_heading level0 row1\" >1</th>\n",
       "                        <td id=\"T_58fd2ffd_38f9_11eb_ab2d_98fa9b22916crow1_col0\" class=\"data row1 col0\" >4</td>\n",
       "                        <td id=\"T_58fd2ffd_38f9_11eb_ab2d_98fa9b22916crow1_col1\" class=\"data row1 col1\" >2</td>\n",
       "                        <td id=\"T_58fd2ffd_38f9_11eb_ab2d_98fa9b22916crow1_col2\" class=\"data row1 col2\" >20</td>\n",
       "                        <td id=\"T_58fd2ffd_38f9_11eb_ab2d_98fa9b22916crow1_col3\" class=\"data row1 col3\" >3</td>\n",
       "            </tr>\n",
       "            <tr>\n",
       "                        <th id=\"T_58fd2ffd_38f9_11eb_ab2d_98fa9b22916clevel0_row2\" class=\"row_heading level0 row2\" >2</th>\n",
       "                        <td id=\"T_58fd2ffd_38f9_11eb_ab2d_98fa9b22916crow2_col0\" class=\"data row2 col0\" >5</td>\n",
       "                        <td id=\"T_58fd2ffd_38f9_11eb_ab2d_98fa9b22916crow2_col1\" class=\"data row2 col1\" >54</td>\n",
       "                        <td id=\"T_58fd2ffd_38f9_11eb_ab2d_98fa9b22916crow2_col2\" class=\"data row2 col2\" >7</td>\n",
       "                        <td id=\"T_58fd2ffd_38f9_11eb_ab2d_98fa9b22916crow2_col3\" class=\"data row2 col3\" >6</td>\n",
       "            </tr>\n",
       "            <tr>\n",
       "                        <th id=\"T_58fd2ffd_38f9_11eb_ab2d_98fa9b22916clevel0_row3\" class=\"row_heading level0 row3\" >3</th>\n",
       "                        <td id=\"T_58fd2ffd_38f9_11eb_ab2d_98fa9b22916crow3_col0\" class=\"data row3 col0\" >4</td>\n",
       "                        <td id=\"T_58fd2ffd_38f9_11eb_ab2d_98fa9b22916crow3_col1\" class=\"data row3 col1\" >3</td>\n",
       "                        <td id=\"T_58fd2ffd_38f9_11eb_ab2d_98fa9b22916crow3_col2\" class=\"data row3 col2\" >3</td>\n",
       "                        <td id=\"T_58fd2ffd_38f9_11eb_ab2d_98fa9b22916crow3_col3\" class=\"data row3 col3\" >2</td>\n",
       "            </tr>\n",
       "            <tr>\n",
       "                        <th id=\"T_58fd2ffd_38f9_11eb_ab2d_98fa9b22916clevel0_row4\" class=\"row_heading level0 row4\" >4</th>\n",
       "                        <td id=\"T_58fd2ffd_38f9_11eb_ab2d_98fa9b22916crow4_col0\" class=\"data row4 col0\" >1</td>\n",
       "                        <td id=\"T_58fd2ffd_38f9_11eb_ab2d_98fa9b22916crow4_col1\" class=\"data row4 col1\" >2</td>\n",
       "                        <td id=\"T_58fd2ffd_38f9_11eb_ab2d_98fa9b22916crow4_col2\" class=\"data row4 col2\" >8</td>\n",
       "                        <td id=\"T_58fd2ffd_38f9_11eb_ab2d_98fa9b22916crow4_col3\" class=\"data row4 col3\" >6</td>\n",
       "            </tr>\n",
       "    </tbody></table>"
      ],
      "text/plain": [
       "<pandas.io.formats.style.Styler at 0x1f255b05040>"
      ]
     },
     "execution_count": 2,
     "metadata": {},
     "output_type": "execute_result"
    }
   ],
   "source": [
    "# import the module \n",
    "import pandas as pd \n",
    "\n",
    "# create a DataFrame \n",
    "df = pd.DataFrame({\"A\":[14, 4, 5, 4, 1], \n",
    "\t\t\t\t\t\"B\":[5, 2, 54, 3, 2], \n",
    "\t\t\t\t\t\"C\":[20, 20, 7, 3, 8], \n",
    "\t\t\t\t\t\"D\":[14, 3, 6, 2, 6]}) \n",
    "\n",
    "# making a green border \n",
    "df.style.set_table_styles([{'selector' : '', \n",
    "\t\t\t\t\t\t\t'props' : [('border', \n",
    "\t\t\t\t\t\t\t\t\t\t'2px solid green')]}]) \n"
   ]
  },
  {
   "cell_type": "code",
   "execution_count": null,
   "metadata": {},
   "outputs": [],
   "source": []
  }
 ],
 "metadata": {
  "kernelspec": {
   "display_name": "Python 3",
   "language": "python",
   "name": "python3"
  },
  "language_info": {
   "codemirror_mode": {
    "name": "ipython",
    "version": 3
   },
   "file_extension": ".py",
   "mimetype": "text/x-python",
   "name": "python",
   "nbconvert_exporter": "python",
   "pygments_lexer": "ipython3",
   "version": "3.8.3"
  }
 },
 "nbformat": 4,
 "nbformat_minor": 4
}
